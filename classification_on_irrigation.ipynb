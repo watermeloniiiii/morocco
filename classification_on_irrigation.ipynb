{
 "cells": [
  {
   "cell_type": "code",
   "execution_count": 1,
   "metadata": {},
   "outputs": [],
   "source": [
    "from typing import List, Optional\n",
    "import numpy as np\n",
    "import matplotlib.pyplot as plt\n",
    "import pandas as pd\n",
    "import os\n",
    "from config import viz_param"
   ]
  },
  {
   "cell_type": "code",
   "execution_count": 2,
   "id": "8d77669e",
   "metadata": {},
   "outputs": [],
   "source": [
    "def make_fig(\n",
    "        xdata: List, \n",
    "        ydata: List, \n",
    "        c: List = [\"C1\", \"C2\"],\n",
    "        legend: bool = True,\n",
    "        legendlabel: Optional[List] = None,\n",
    "        xlabel=None,\n",
    "        ylabel=None,\n",
    "        xlim=None,\n",
    "        ylim=None,\n",
    "        xticks=None,\n",
    "        yticks=None,\n",
    "        alpha=1,\n",
    "        fill_range=False):\n",
    "    plt.figure(1, figsize=(12, 6))\n",
    "    if legend:\n",
    "        if not fill_range:\n",
    "            for i in range(len(xdata)):\n",
    "                if len(ydata[i]) != 0:\n",
    "                    plt.plot(xdata[i], ydata[i].mean(axis=0), label=legendlabel[i], c=c[i], alpha=alpha)\n",
    "        else:\n",
    "            for i in range(len(xdata)):\n",
    "                if len(ydata[i]) != 0:\n",
    "                    plt.fill_between(xdata[i], ydata[i].mean(axis=0) - ydata[i].std(axis=0), ydata[i].mean(axis=0) + ydata[i].std(axis=0), color=c[i], alpha=alpha, label=legendlabel[i])\n",
    "    else:\n",
    "        if not fill_range:\n",
    "            for i in range(len(xdata)):\n",
    "                if len(ydata[i]) != 0:\n",
    "                    plt.plot(xdata[i], ydata[i].mean(axis=0), c=c[i], alpha=alpha)\n",
    "        else:\n",
    "            for i in range(len(xdata)):\n",
    "                if len(ydata[i]) != 0:\n",
    "                    plt.fill_between(xdata[i], ydata[i].mean(axis=0) - ydata[i].std(axis=0), ydata[i].mean(axis=0) + ydata[i].std(axis=0), color=c[i], alpha=alpha)\n",
    "    ax = plt.gca()\n",
    "    for l in ax.get_xticklabels() + ax.get_yticklabels():\n",
    "        l.set_size(14)\n",
    "        l.set_family('Arial')\n",
    "        l.set_weight('bold')\n",
    "    if legend:\n",
    "        plt.legend(loc=4, prop=dict(size=14, family='Arial', weight='bold'))    \n",
    "    ax.set_ylabel(ylabel, fontdict=dict(size=14, family='Arial', weight='bold'))\n",
    "    ax.set_xlabel(xlabel, fontdict=dict(size=14, family='Arial', weight='bold'))\n",
    "    ax.set_xticks([0, 24, 48, 72, 96, 120])\n",
    "    ax.set_ylim(ylim[0], ylim[1])\n",
    "    ax.set_yticks(yticks)\n",
    "    ax.set_xticklabels([\"2012-01\", \"2014-01\", \"2016-01\", \"2018-01\", \"2020-01\", \"2022-01\"], rotation=45)\n",
    "    ax.grid(ls='--', color='k', lw=0.5)\n",
    "    plt.subplots_adjust(left=0.1, bottom=0.2, right=0.95)\n",
    "    # plt.show()"
   ]
  },
  {
   "attachments": {},
   "cell_type": "markdown",
   "metadata": {},
   "source": [
    "### Make figures for VI"
   ]
  },
  {
   "cell_type": "code",
   "execution_count": 10,
   "metadata": {},
   "outputs": [
    {
     "name": "stderr",
     "output_type": "stream",
     "text": [
      "/tmp/ipykernel_2108/4250520263.py:27: RuntimeWarning: Mean of empty slice.\n",
      "  xdata=[range(0, len(irri_vi.mean(axis=0))), range(0, len(rf_vi.mean(axis=0)))],\n",
      "/media/workspace/linchenxi/home/satellite-platform/venv/lib/python3.9/site-packages/numpy/core/_methods.py:181: RuntimeWarning: invalid value encountered in true_divide\n",
      "  ret = um.true_divide(\n"
     ]
    },
    {
     "data": {
      "image/png": "[encoded data removed]",
      "text/plain": [
       "<Figure size 864x432 with 1 Axes>"
      ]
     },
     "metadata": {
      "needs_background": "light"
     },
     "output_type": "display_data"
    }
   ],
   "source": [
    "root_dir =  f\"/NAS6/Members/linchenxi/projects/morocco/irrigation_regional_analysis\"\n",
    "VI = \"CIG\" \n",
    "for region in [\"Guercif\", \"Fes\", \"Taza\", \"Taounate\", \"Sefrou\", \"Yacoub\"]:\n",
    "    samples = pd.DataFrame(data=[])\n",
    "    for year in range(2012, 2023):\n",
    "        new_name = {f\"{VI}_{i}\":f\"{VI}_{i+(year-2012)*12}\" for i in range(1, 13)}\n",
    "        try:\n",
    "            irri = pd.read_csv(os.path.join(root_dir, f\"{VI}\", f\"{region}_{VI}_irri_{year}.csv\"))[[f\"{VI}_{i}\" for i in range(1, 13)]]\n",
    "        except:\n",
    "            irri = pd.DataFrame(data=[], columns=[f\"{VI}_{i}\" for i in range(1, 13)])\n",
    "        irri.rename(columns=new_name, inplace=True)\n",
    "        irri = irri.fillna(0)\n",
    "        try:\n",
    "            rf = pd.read_csv(os.path.join(root_dir, f\"{VI}\", f\"{region}_{VI}_rf_{year}.csv\"))[[f\"{VI}_{i}\" for i in range(1, 13)]]\n",
    "        except:        \n",
    "            rf = pd.DataFrame(data=[], columns=[f\"{VI}_{i}\" for i in range(1, 12)])\n",
    "        rf.rename(columns=new_name, inplace=True)\n",
    "        rf = rf.fillna(0)\n",
    "        if year == 2012:\n",
    "            irri[\"class\"] = 0\n",
    "            rf[\"class\"] = 1\n",
    "        combined = pd.concat([irri, rf], axis=0)\n",
    "        samples = pd.concat([samples, combined], axis=1)\n",
    "    irri_vi = samples[samples[\"class\"]==0].drop(columns=[\"class\"]).to_numpy()\n",
    "    rf_vi = samples[samples[\"class\"]==1].drop(columns=[\"class\"]).to_numpy()\n",
    "    make_fig(\n",
    "        xdata=[range(0, len(irri_vi.mean(axis=0))), range(0, len(rf_vi.mean(axis=0)))],\n",
    "        ydata=[irri_vi, rf_vi],\n",
    "        legendlabel=[\"Irrigated Olives\", \"Rainfed Olives\"],\n",
    "        xlabel=f\"{VI}\",\n",
    "        ylabel=\"Dates\",\n",
    "        ylim=viz_param[VI][\"ylim\"],\n",
    "        yticks=viz_param[VI][\"yticks\"])\n",
    "    plt.savefig(fr\"/NAS6/Members/linchenxi/projects/morocco/irrigation_regional_analysis/figures/{region}_{VI}.jpg\")\n",
    "    plt.cla()"
   ]
  },
  {
   "attachments": {},
   "cell_type": "markdown",
   "id": "c25482e0",
   "metadata": {},
   "source": [
    "### Make figures for precipitation"
   ]
  },
  {
   "cell_type": "code",
   "execution_count": null,
   "metadata": {},
   "outputs": [
    {
     "ename": "ValueError",
     "evalue": "x and y must have same first dimension, but have shapes (132,) and (1,)",
     "output_type": "error",
     "traceback": [
      "\u001b[0;31m---------------------------------------------------------------------------\u001b[0m",
      "\u001b[0;31mValueError\u001b[0m                                Traceback (most recent call last)",
      "\u001b[0;32m/tmp/ipykernel_37915/1374806454.py\u001b[0m in \u001b[0;36m<module>\u001b[0;34m\u001b[0m\n\u001b[1;32m     11\u001b[0m         \u001b[0mprec\u001b[0m \u001b[0;34m=\u001b[0m \u001b[0mprec\u001b[0m\u001b[0;34m.\u001b[0m\u001b[0mfillna\u001b[0m\u001b[0;34m(\u001b[0m\u001b[0;36m0\u001b[0m\u001b[0;34m)\u001b[0m\u001b[0;34m\u001b[0m\u001b[0;34m\u001b[0m\u001b[0m\n\u001b[1;32m     12\u001b[0m         \u001b[0msamples\u001b[0m \u001b[0;34m=\u001b[0m \u001b[0mpd\u001b[0m\u001b[0;34m.\u001b[0m\u001b[0mconcat\u001b[0m\u001b[0;34m(\u001b[0m\u001b[0;34m[\u001b[0m\u001b[0msamples\u001b[0m\u001b[0;34m,\u001b[0m \u001b[0mprec\u001b[0m\u001b[0;34m]\u001b[0m\u001b[0;34m,\u001b[0m \u001b[0maxis\u001b[0m\u001b[0;34m=\u001b[0m\u001b[0;36m1\u001b[0m\u001b[0;34m)\u001b[0m\u001b[0;34m\u001b[0m\u001b[0;34m\u001b[0m\u001b[0m\n\u001b[0;32m---> 13\u001b[0;31m     make_fig(\n\u001b[0m\u001b[1;32m     14\u001b[0m         \u001b[0mxdata\u001b[0m\u001b[0;34m=\u001b[0m\u001b[0;34m[\u001b[0m\u001b[0mrange\u001b[0m\u001b[0;34m(\u001b[0m\u001b[0;36m0\u001b[0m\u001b[0;34m,\u001b[0m \u001b[0mlen\u001b[0m\u001b[0;34m(\u001b[0m\u001b[0msamples\u001b[0m\u001b[0;34m.\u001b[0m\u001b[0mmean\u001b[0m\u001b[0;34m(\u001b[0m\u001b[0maxis\u001b[0m\u001b[0;34m=\u001b[0m\u001b[0;36m0\u001b[0m\u001b[0;34m)\u001b[0m\u001b[0;34m)\u001b[0m\u001b[0;34m)\u001b[0m\u001b[0;34m]\u001b[0m\u001b[0;34m,\u001b[0m\u001b[0;34m\u001b[0m\u001b[0;34m\u001b[0m\u001b[0m\n\u001b[1;32m     15\u001b[0m         \u001b[0mydata\u001b[0m\u001b[0;34m=\u001b[0m\u001b[0;34m[\u001b[0m\u001b[0msamples\u001b[0m\u001b[0;34m.\u001b[0m\u001b[0mmean\u001b[0m\u001b[0;34m(\u001b[0m\u001b[0maxis\u001b[0m\u001b[0;34m=\u001b[0m\u001b[0;36m0\u001b[0m\u001b[0;34m)\u001b[0m\u001b[0;34m]\u001b[0m\u001b[0;34m,\u001b[0m\u001b[0;34m\u001b[0m\u001b[0;34m\u001b[0m\u001b[0m\n",
      "\u001b[0;32m/tmp/ipykernel_37915/1665772924.py\u001b[0m in \u001b[0;36mmake_fig\u001b[0;34m(xdata, ydata, c, legend, legendlabel, xlabel, ylabel, xlim, ylim, xticks, yticks, alpha, fill_range)\u001b[0m\n\u001b[1;32m     18\u001b[0m             \u001b[0;32mfor\u001b[0m \u001b[0mi\u001b[0m \u001b[0;32min\u001b[0m \u001b[0mrange\u001b[0m\u001b[0;34m(\u001b[0m\u001b[0mlen\u001b[0m\u001b[0;34m(\u001b[0m\u001b[0mxdata\u001b[0m\u001b[0;34m)\u001b[0m\u001b[0;34m)\u001b[0m\u001b[0;34m:\u001b[0m\u001b[0;34m\u001b[0m\u001b[0;34m\u001b[0m\u001b[0m\n\u001b[1;32m     19\u001b[0m                 \u001b[0;32mif\u001b[0m \u001b[0mlen\u001b[0m\u001b[0;34m(\u001b[0m\u001b[0mydata\u001b[0m\u001b[0;34m[\u001b[0m\u001b[0mi\u001b[0m\u001b[0;34m]\u001b[0m\u001b[0;34m)\u001b[0m \u001b[0;34m!=\u001b[0m \u001b[0;36m0\u001b[0m\u001b[0;34m:\u001b[0m\u001b[0;34m\u001b[0m\u001b[0;34m\u001b[0m\u001b[0m\n\u001b[0;32m---> 20\u001b[0;31m                     \u001b[0mplt\u001b[0m\u001b[0;34m.\u001b[0m\u001b[0mplot\u001b[0m\u001b[0;34m(\u001b[0m\u001b[0mxdata\u001b[0m\u001b[0;34m[\u001b[0m\u001b[0mi\u001b[0m\u001b[0;34m]\u001b[0m\u001b[0;34m,\u001b[0m \u001b[0mydata\u001b[0m\u001b[0;34m[\u001b[0m\u001b[0mi\u001b[0m\u001b[0;34m]\u001b[0m\u001b[0;34m.\u001b[0m\u001b[0mmean\u001b[0m\u001b[0;34m(\u001b[0m\u001b[0maxis\u001b[0m\u001b[0;34m=\u001b[0m\u001b[0;36m0\u001b[0m\u001b[0;34m)\u001b[0m\u001b[0;34m,\u001b[0m \u001b[0mlabel\u001b[0m\u001b[0;34m=\u001b[0m\u001b[0mlegendlabel\u001b[0m\u001b[0;34m[\u001b[0m\u001b[0mi\u001b[0m\u001b[0;34m]\u001b[0m\u001b[0;34m,\u001b[0m \u001b[0mc\u001b[0m\u001b[0;34m=\u001b[0m\u001b[0mc\u001b[0m\u001b[0;34m[\u001b[0m\u001b[0mi\u001b[0m\u001b[0;34m]\u001b[0m\u001b[0;34m,\u001b[0m \u001b[0malpha\u001b[0m\u001b[0;34m=\u001b[0m\u001b[0malpha\u001b[0m\u001b[0;34m)\u001b[0m\u001b[0;34m\u001b[0m\u001b[0;34m\u001b[0m\u001b[0m\n\u001b[0m\u001b[1;32m     21\u001b[0m         \u001b[0;32melse\u001b[0m\u001b[0;34m:\u001b[0m\u001b[0;34m\u001b[0m\u001b[0;34m\u001b[0m\u001b[0m\n\u001b[1;32m     22\u001b[0m             \u001b[0;32mfor\u001b[0m \u001b[0mi\u001b[0m \u001b[0;32min\u001b[0m \u001b[0mrange\u001b[0m\u001b[0;34m(\u001b[0m\u001b[0mlen\u001b[0m\u001b[0;34m(\u001b[0m\u001b[0mxdata\u001b[0m\u001b[0;34m)\u001b[0m\u001b[0;34m)\u001b[0m\u001b[0;34m:\u001b[0m\u001b[0;34m\u001b[0m\u001b[0;34m\u001b[0m\u001b[0m\n",
      "\u001b[0;32m~/satellite-platform/venv/lib/python3.9/site-packages/matplotlib/pyplot.py\u001b[0m in \u001b[0;36mplot\u001b[0;34m(scalex, scaley, data, *args, **kwargs)\u001b[0m\n\u001b[1;32m   2838\u001b[0m \u001b[0;34m@\u001b[0m\u001b[0m_copy_docstring_and_deprecators\u001b[0m\u001b[0;34m(\u001b[0m\u001b[0mAxes\u001b[0m\u001b[0;34m.\u001b[0m\u001b[0mplot\u001b[0m\u001b[0;34m)\u001b[0m\u001b[0;34m\u001b[0m\u001b[0;34m\u001b[0m\u001b[0m\n\u001b[1;32m   2839\u001b[0m \u001b[0;32mdef\u001b[0m \u001b[0mplot\u001b[0m\u001b[0;34m(\u001b[0m\u001b[0;34m*\u001b[0m\u001b[0margs\u001b[0m\u001b[0;34m,\u001b[0m \u001b[0mscalex\u001b[0m\u001b[0;34m=\u001b[0m\u001b[0;32mTrue\u001b[0m\u001b[0;34m,\u001b[0m \u001b[0mscaley\u001b[0m\u001b[0;34m=\u001b[0m\u001b[0;32mTrue\u001b[0m\u001b[0;34m,\u001b[0m \u001b[0mdata\u001b[0m\u001b[0;34m=\u001b[0m\u001b[0;32mNone\u001b[0m\u001b[0;34m,\u001b[0m \u001b[0;34m**\u001b[0m\u001b[0mkwargs\u001b[0m\u001b[0;34m)\u001b[0m\u001b[0;34m:\u001b[0m\u001b[0;34m\u001b[0m\u001b[0;34m\u001b[0m\u001b[0m\n\u001b[0;32m-> 2840\u001b[0;31m     return gca().plot(\n\u001b[0m\u001b[1;32m   2841\u001b[0m         \u001b[0;34m*\u001b[0m\u001b[0margs\u001b[0m\u001b[0;34m,\u001b[0m \u001b[0mscalex\u001b[0m\u001b[0;34m=\u001b[0m\u001b[0mscalex\u001b[0m\u001b[0;34m,\u001b[0m \u001b[0mscaley\u001b[0m\u001b[0;34m=\u001b[0m\u001b[0mscaley\u001b[0m\u001b[0;34m,\u001b[0m\u001b[0;34m\u001b[0m\u001b[0;34m\u001b[0m\u001b[0m\n\u001b[1;32m   2842\u001b[0m         **({\"data\": data} if data is not None else {}), **kwargs)\n",
      "\u001b[0;32m~/satellite-platform/venv/lib/python3.9/site-packages/matplotlib/axes/_axes.py\u001b[0m in \u001b[0;36mplot\u001b[0;34m(self, scalex, scaley, data, *args, **kwargs)\u001b[0m\n\u001b[1;32m   1741\u001b[0m         \"\"\"\n\u001b[1;32m   1742\u001b[0m         \u001b[0mkwargs\u001b[0m \u001b[0;34m=\u001b[0m \u001b[0mcbook\u001b[0m\u001b[0;34m.\u001b[0m\u001b[0mnormalize_kwargs\u001b[0m\u001b[0;34m(\u001b[0m\u001b[0mkwargs\u001b[0m\u001b[0;34m,\u001b[0m \u001b[0mmlines\u001b[0m\u001b[0;34m.\u001b[0m\u001b[0mLine2D\u001b[0m\u001b[0;34m)\u001b[0m\u001b[0;34m\u001b[0m\u001b[0;34m\u001b[0m\u001b[0m\n\u001b[0;32m-> 1743\u001b[0;31m         \u001b[0mlines\u001b[0m \u001b[0;34m=\u001b[0m \u001b[0;34m[\u001b[0m\u001b[0;34m*\u001b[0m\u001b[0mself\u001b[0m\u001b[0;34m.\u001b[0m\u001b[0m_get_lines\u001b[0m\u001b[0;34m(\u001b[0m\u001b[0;34m*\u001b[0m\u001b[0margs\u001b[0m\u001b[0;34m,\u001b[0m \u001b[0mdata\u001b[0m\u001b[0;34m=\u001b[0m\u001b[0mdata\u001b[0m\u001b[0;34m,\u001b[0m \u001b[0;34m**\u001b[0m\u001b[0mkwargs\u001b[0m\u001b[0;34m)\u001b[0m\u001b[0;34m]\u001b[0m\u001b[0;34m\u001b[0m\u001b[0;34m\u001b[0m\u001b[0m\n\u001b[0m\u001b[1;32m   1744\u001b[0m         \u001b[0;32mfor\u001b[0m \u001b[0mline\u001b[0m \u001b[0;32min\u001b[0m \u001b[0mlines\u001b[0m\u001b[0;34m:\u001b[0m\u001b[0;34m\u001b[0m\u001b[0;34m\u001b[0m\u001b[0m\n\u001b[1;32m   1745\u001b[0m             \u001b[0mself\u001b[0m\u001b[0;34m.\u001b[0m\u001b[0madd_line\u001b[0m\u001b[0;34m(\u001b[0m\u001b[0mline\u001b[0m\u001b[0;34m)\u001b[0m\u001b[0;34m\u001b[0m\u001b[0;34m\u001b[0m\u001b[0m\n",
      "\u001b[0;32m~/satellite-platform/venv/lib/python3.9/site-packages/matplotlib/axes/_base.py\u001b[0m in \u001b[0;36m__call__\u001b[0;34m(self, data, *args, **kwargs)\u001b[0m\n\u001b[1;32m    271\u001b[0m                 \u001b[0mthis\u001b[0m \u001b[0;34m+=\u001b[0m \u001b[0margs\u001b[0m\u001b[0;34m[\u001b[0m\u001b[0;36m0\u001b[0m\u001b[0;34m]\u001b[0m\u001b[0;34m,\u001b[0m\u001b[0;34m\u001b[0m\u001b[0;34m\u001b[0m\u001b[0m\n\u001b[1;32m    272\u001b[0m                 \u001b[0margs\u001b[0m \u001b[0;34m=\u001b[0m \u001b[0margs\u001b[0m\u001b[0;34m[\u001b[0m\u001b[0;36m1\u001b[0m\u001b[0;34m:\u001b[0m\u001b[0;34m]\u001b[0m\u001b[0;34m\u001b[0m\u001b[0;34m\u001b[0m\u001b[0m\n\u001b[0;32m--> 273\u001b[0;31m             \u001b[0;32myield\u001b[0m \u001b[0;32mfrom\u001b[0m \u001b[0mself\u001b[0m\u001b[0;34m.\u001b[0m\u001b[0m_plot_args\u001b[0m\u001b[0;34m(\u001b[0m\u001b[0mthis\u001b[0m\u001b[0;34m,\u001b[0m \u001b[0mkwargs\u001b[0m\u001b[0;34m)\u001b[0m\u001b[0;34m\u001b[0m\u001b[0;34m\u001b[0m\u001b[0m\n\u001b[0m\u001b[1;32m    274\u001b[0m \u001b[0;34m\u001b[0m\u001b[0m\n\u001b[1;32m    275\u001b[0m     \u001b[0;32mdef\u001b[0m \u001b[0mget_next_color\u001b[0m\u001b[0;34m(\u001b[0m\u001b[0mself\u001b[0m\u001b[0;34m)\u001b[0m\u001b[0;34m:\u001b[0m\u001b[0;34m\u001b[0m\u001b[0;34m\u001b[0m\u001b[0m\n",
      "\u001b[0;32m~/satellite-platform/venv/lib/python3.9/site-packages/matplotlib/axes/_base.py\u001b[0m in \u001b[0;36m_plot_args\u001b[0;34m(self, tup, kwargs)\u001b[0m\n\u001b[1;32m    397\u001b[0m \u001b[0;34m\u001b[0m\u001b[0m\n\u001b[1;32m    398\u001b[0m         \u001b[0;32mif\u001b[0m \u001b[0mx\u001b[0m\u001b[0;34m.\u001b[0m\u001b[0mshape\u001b[0m\u001b[0;34m[\u001b[0m\u001b[0;36m0\u001b[0m\u001b[0;34m]\u001b[0m \u001b[0;34m!=\u001b[0m \u001b[0my\u001b[0m\u001b[0;34m.\u001b[0m\u001b[0mshape\u001b[0m\u001b[0;34m[\u001b[0m\u001b[0;36m0\u001b[0m\u001b[0;34m]\u001b[0m\u001b[0;34m:\u001b[0m\u001b[0;34m\u001b[0m\u001b[0;34m\u001b[0m\u001b[0m\n\u001b[0;32m--> 399\u001b[0;31m             raise ValueError(f\"x and y must have same first dimension, but \"\n\u001b[0m\u001b[1;32m    400\u001b[0m                              f\"have shapes {x.shape} and {y.shape}\")\n\u001b[1;32m    401\u001b[0m         \u001b[0;32mif\u001b[0m \u001b[0mx\u001b[0m\u001b[0;34m.\u001b[0m\u001b[0mndim\u001b[0m \u001b[0;34m>\u001b[0m \u001b[0;36m2\u001b[0m \u001b[0;32mor\u001b[0m \u001b[0my\u001b[0m\u001b[0;34m.\u001b[0m\u001b[0mndim\u001b[0m \u001b[0;34m>\u001b[0m \u001b[0;36m2\u001b[0m\u001b[0;34m:\u001b[0m\u001b[0;34m\u001b[0m\u001b[0;34m\u001b[0m\u001b[0m\n",
      "\u001b[0;31mValueError\u001b[0m: x and y must have same first dimension, but have shapes (132,) and (1,)"
     ]
    },
    {
     "data": {
      "image/png": "[encoded data removed]",
      "text/plain": [
       "<Figure size 864x432 with 1 Axes>"
      ]
     },
     "metadata": {
      "needs_background": "light"
     },
     "output_type": "display_data"
    }
   ],
   "source": [
    "root_dir = f\"/NAS6/Members/linchenxi/projects/morocco/irrigation_regional_analysis/prec\"\n",
    "for region in [\"Guercif\", \"Fes\", \"Taza\", \"Taounate\", \"Sefrou\", \"Yacoub\"]:\n",
    "    samples = pd.DataFrame(data=[])\n",
    "    for year in range(2012, 2023):\n",
    "        new_name = {f\"prec_{i}\":f\"prec_{i+(year-2012)*12}\" for i in range(1, 13)}\n",
    "        try:\n",
    "            prec = pd.read_csv(os.path.join(root_dir, f\"{region}_prec_{year}.csv\"))[[f\"prec_{i}\" for i in range(1, 13)]]\n",
    "        except:\n",
    "            prec = pd.DataFrame(data=[], columns=[f\"prec_{i}\" for i in range(1, 13)])\n",
    "        prec.rename(columns=new_name, inplace=True)\n",
    "        prec = prec.fillna(0)\n",
    "        samples = pd.concat([samples, prec], axis=1)\n",
    "    make_fig(\n",
    "        xdata=[range(0, len(samples.mean(axis=0)))],\n",
    "        ydata=[samples.mean(axis=0)],\n",
    "        legendlabel=[\"Precipitation\"],\n",
    "        xlabel=\"Precipitation\",\n",
    "        ylabel=\"Dates\",\n",
    "        ylim=(0, 600))\n",
    "    plt.savefig(f\"/NAS6/Members/linchenxi/projects/morocco/irrigation_regional_analysis/figures/{region}_prec.jpg\")\n",
    "    plt.cla()"
   ]
  },
  {
   "attachments": {},
   "cell_type": "markdown",
   "id": "7043fec5",
   "metadata": {},
   "source": [
    "### Random Forest"
   ]
  },
  {
   "attachments": {},
   "cell_type": "markdown",
   "id": "53dc53fa",
   "metadata": {},
   "source": [
    "#### 1. Concatnate variables"
   ]
  },
  {
   "cell_type": "code",
   "execution_count": 3,
   "id": "8602724d",
   "metadata": {},
   "outputs": [],
   "source": [
    "root_dir =  f\"/NAS6/Members/linchenxi/projects/morocco/irrigation_regional_analysis\"\n",
    "samples = pd.DataFrame(data=[])\n",
    "for year in range(2012, 2023):\n",
    "    combined_VI = pd.DataFrame(data=[])\n",
    "    for vi in [\"NDVI\", \"EVI\", \"CIG\", \"LSWI\", \"OSAVI\"]:\n",
    "        new_name = {f\"{vi}_{i}\":f\"{vi}_{i+(year-2012)*12}\" for i in range(1, 13)}\n",
    "        try:\n",
    "            if year == 2012 and vi == \"NDVI\":\n",
    "                irri = pd.read_csv(os.path.join(root_dir, f\"{vi}\", f\"all_{vi}_irri_{year}.csv\"))[[f\"{vi}_{i}\" for i in range(1, 13)]+[\"FIELD_ID\"]]\n",
    "            else:\n",
    "                irri = pd.read_csv(os.path.join(root_dir, f\"{vi}\", f\"all_{vi}_irri_{year}.csv\"))[[f\"{vi}_{i}\" for i in range(1, 13)]]\n",
    "        except:\n",
    "            irri = pd.DataFrame(data=[], columns=[f\"{vi}_{i}\" for i in range(1, 13)])\n",
    "        irri.rename(columns=new_name, inplace=True)\n",
    "        irri.fillna(method=\"ffill\", inplace=True)\n",
    "        try:\n",
    "            if year == 2012 and vi == \"NDVI\":\n",
    "                rf = pd.read_csv(os.path.join(root_dir, f\"{vi}\", f\"all_{vi}_rf_{year}.csv\"))[[f\"{vi}_{i}\" for i in range(1, 13)]+[\"FIELD_ID\"]]\n",
    "            else:\n",
    "                rf = pd.read_csv(os.path.join(root_dir, f\"{vi}\", f\"all_{vi}_rf_{year}.csv\"))[[f\"{vi}_{i}\" for i in range(1, 13)]] \n",
    "        except:        \n",
    "            rf = pd.DataFrame(data=[], columns=[f\"{vi}_{i}\" for i in range(1, 13)])\n",
    "        rf.rename(columns=new_name, inplace=True)\n",
    "        rf.fillna(method=\"ffill\", inplace=True)\n",
    "        if year == 2012 and vi == \"NDVI\":\n",
    "            irri[\"class\"] = 0\n",
    "            rf[\"class\"] = 1\n",
    "        combined = pd.concat([irri, rf], axis=0)\n",
    "        combined_VI = pd.concat([combined_VI, combined], axis=1)\n",
    "    samples = pd.concat([samples, combined_VI], axis=1)\n",
    "samples = samples.reset_index(drop=True)\n"
   ]
  },
  {
   "attachments": {},
   "cell_type": "markdown",
   "id": "9b8a3d70",
   "metadata": {},
   "source": [
    "#### 2. Split training and testing data"
   ]
  },
  {
   "cell_type": "code",
   "execution_count": 43,
   "id": "dcd94808",
   "metadata": {},
   "outputs": [],
   "source": [
    "samples_guercif = samples[\"FIELD_ID\"].str.contains(\"GUERSIF\") # provide samples for irrigation\n",
    "samples_fes = samples[\"FIELD_ID\"].str.contains(\"Fes-Nord\") # provide samples for irrigation and rainfed\n",
    "samples_taounate = samples[\"FIELD_ID\"].str.contains(\"TAOUNATE\") \n",
    "mask = np.any(np.c_[samples_guercif, samples_fes, samples_taounate], axis=1)\n",
    "X_train = samples[mask].drop(columns=[\"class\", \"FIELD_ID\"]).to_numpy()\n",
    "y_train = samples[mask][\"class\"].to_numpy()\n",
    "selected_columns = samples.columns[samples.columns.str.contains(\"NDVI\")]\n",
    "samples_viz = samples[selected_columns]\n",
    "# make_fig(\n",
    "#     xdata=[range(0, 132) for _ in range(4)],\n",
    "#     ydata=[samples_viz[samples_guercif]] + [samples_viz[samples_guercif]],\n",
    "#     legendlabel=[\"irri2rf\", \"rf_2irri\", \"irri2irri\", \"rf2rf\"],\n",
    "#     xlabel=\"VI\",\n",
    "#     ylabel=\"Dates\",\n",
    "#     c=[\"C0\", \"C1\", \"C2\", \"C3\"],\n",
    "#     ylim=(0, 1),\n",
    "#     yticks=[0, 0.2, 0.4, 0.6, 0.8, 1], \n",
    "#     alpha=1)\n"
   ]
  },
  {
   "cell_type": "code",
   "execution_count": 44,
   "metadata": {},
   "outputs": [
    {
     "data": {
      "image/png": "[encoded data removed]",
      "text/plain": [
       "<Figure size 864x432 with 1 Axes>"
      ]
     },
     "metadata": {
      "needs_background": "light"
     },
     "output_type": "display_data"
    }
   ],
   "source": [
    "from sklearn.ensemble import RandomForestClassifier\n",
    "from sklearn.metrics import confusion_matrix\n",
    "clf = RandomForestClassifier(max_depth=5, random_state=1)\n",
    "clf.fit(X_train, y_train)\n",
    "testing_region = [\"Fes\", \n",
    "               \"Yacoub\",\n",
    "               \"Sefrou\",\n",
    "               \"Taza\",\n",
    "               \"Taounate\",\n",
    "               \"Guercif\"\n",
    "               ]\n",
    "for region in testing_region:\n",
    "    testing_samples = pd.DataFrame(data=[])\n",
    "    for year in range(2012, 2023):\n",
    "        combined_VI = pd.DataFrame(data=[])\n",
    "        for vi in [\"NDVI\", \"EVI\", \"CIG\", \"LSWI\", \"OSAVI\"]:\n",
    "            new_name = {f\"{vi}_{i}\":f\"{vi}_{i+(year-2012)*12}\" for i in range(1, 13)}\n",
    "            try:\n",
    "                irri = pd.read_csv(os.path.join(root_dir, f\"{vi}\", f\"{region}_{vi}_irri_{year}.csv\"))[[f\"{vi}_{i}\" for i in range(1, 13)]]\n",
    "            except:\n",
    "                irri = pd.DataFrame(data=[], columns=[f\"{vi}_{i}\" for i in range(1, 13)])\n",
    "            irri.rename(columns=new_name, inplace=True)\n",
    "            irri = irri.fillna(0)\n",
    "            try:\n",
    "                rf = pd.read_csv(os.path.join(root_dir, f\"{vi}\", f\"{region}_{vi}_rf_{year}.csv\"))[[f\"{vi}_{i}\" for i in range(1, 13)]]\n",
    "            except:        \n",
    "                rf = pd.DataFrame(data=[], columns=[f\"{vi}_{i}\" for i in range(1, 13)])\n",
    "            rf.rename(columns=new_name, inplace=True)\n",
    "            rf = rf.fillna(0)\n",
    "            if year == 2012 and vi == \"NDVI\":\n",
    "                irri[\"class\"] = 0\n",
    "                rf[\"class\"] = 1\n",
    "            combined = pd.concat([irri, rf], axis=0)\n",
    "            combined_VI = pd.concat([combined_VI, combined], axis=1)\n",
    "        testing_samples = pd.concat([testing_samples, combined_VI], axis=1)\n",
    "    testing_samples = testing_samples.reset_index(drop=True)\n",
    "    index_test = testing_samples.index\n",
    "    X_test = testing_samples.drop(columns=[\"class\"]).to_numpy()\n",
    "    y_test = testing_samples[\"class\"].to_numpy()\n",
    "    y_pred = clf.predict(X_test)\n",
    "    cm = confusion_matrix(y_test, y_pred)\n",
    "    index_irri_2_rf = testing_samples.index[(np.logical_and(y_test == 0, y_pred == 1))]\n",
    "    index_rf_2_irri = testing_samples.index[(np.logical_and(y_test == 1, y_pred == 0))]\n",
    "    index_irri_2_irri = testing_samples.index[(np.logical_and(y_test == 0, y_pred == 0))]\n",
    "    index_rf_2_rf = testing_samples.index[(np.logical_and(y_test == 1, y_pred == 1))]\n",
    "    for VI in [\"NDVI\", \"EVI\", \"LSWI\", \"OSAVI\", \"CIG\"]:\n",
    "        selected_columns = testing_samples.columns[testing_samples.columns.str.contains(VI)]\n",
    "        samples_viz = testing_samples[selected_columns]\n",
    "        make_fig(\n",
    "            xdata=[range(0, 132) for _ in range(4)],\n",
    "            ydata=[np.array([samples_viz.loc[i] for i in index_irri_2_rf]), np.array([samples_viz.loc[i] for i in index_rf_2_irri]),\n",
    "            np.array([samples_viz.loc[i] for i in index_irri_2_irri]), np.array([samples_viz.loc[i] for i in index_rf_2_rf])],\n",
    "            legendlabel=[\"irri2rf\", \"rf2irri\", \"irri2irri\", \"rf2rf\"],\n",
    "            # ydata=[np.array([samples_viz.loc[i] for i in index_irri_2_rf]), np.array([samples_viz.loc[i] for i in index_rf_2_irri])],\n",
    "            # legendlabel=[\"irri2rf\", \"rf2irri\"],\n",
    "            fill_range=False,\n",
    "            xlabel=VI,\n",
    "            ylabel=\"Dates\",\n",
    "            c=[\"C0\", \"C1\", \"C2\", \"C3\"],\n",
    "            ylim=(viz_param[VI][\"ylim\"][0], viz_param[VI][\"ylim\"][1]),\n",
    "            yticks=viz_param[VI][\"yticks\"], \n",
    "            alpha=1)\n",
    "        plt.savefig(fr\"/NAS6/Members/linchenxi/projects/morocco/irrigation_regional_analysis/figures/{region}_{VI}_mean.jpg\")\n",
    "        plt.cla()"
   ]
  },
  {
   "cell_type": "code",
   "execution_count": 58,
   "id": "fd5db30b",
   "metadata": {},
   "outputs": [
    {
     "data": {
      "text/plain": [
       "Index(['NDVI_30', 'LSWI_8', 'LSWI_77', 'OSAVI_16', 'NDVI_37', 'NDVI_43',\n",
       "       'LSWI_127', 'NDVI_42', 'EVI_39', 'EVI_16', 'LSWI_55', 'CIG_14',\n",
       "       'NDVI_4', 'LSWI_131', 'CIG_28', 'OSAVI_4', 'LSWI_105', 'EVI_77',\n",
       "       'LSWI_128', 'CIG_78', 'NDVI_40', 'NDVI_85', 'LSWI_16', 'NDVI_27',\n",
       "       'NDVI_3', 'NDVI_76', 'NDVI_16', 'NDVI_64', 'NDVI_18', 'OSAVI_17',\n",
       "       'CIG_15', 'NDVI_14', 'LSWI_57', 'NDVI_15', 'OSAVI_77', 'NDVI_78',\n",
       "       'NDVI_17', 'CIG_16', 'NDVI_111', 'CIG_77'],\n",
       "      dtype='object')"
      ]
     },
     "execution_count": 58,
     "metadata": {},
     "output_type": "execute_result"
    }
   ],
   "source": [
    "fi = clf.feature_importances_\n",
    "fn = samples.drop(columns=[\"class\", \"FIELD_ID\"]).columns\n",
    "sorted_fi = np.argsort(fi)[-40:]\n",
    "fn[sorted_fi]"
   ]
  },
  {
   "cell_type": "code",
   "execution_count": 57,
   "id": "6ef01eba",
   "metadata": {},
   "outputs": [
    {
     "name": "stdout",
     "output_type": "stream",
     "text": [
      "Fes [[0 9]\n",
      " [0 3]]\n",
      "Yacoub [[ 1  3]\n",
      " [ 1 24]]\n",
      "Sefrou [[ 8  6]\n",
      " [34 57]]\n",
      "Taza [[ 4  8]\n",
      " [36 58]]\n",
      "Taounate [[ 14   1]\n",
      " [  0 144]]\n",
      "Guercif [[93]]\n"
     ]
    }
   ],
   "source": [
    "\n",
    "X_train = samples[mask].drop(columns=[\"class\", \"FIELD_ID\"])[fn[sorted_fi]].to_numpy()\n",
    "y_train = samples[mask][\"class\"].to_numpy()\n",
    "new_clf = RandomForestClassifier(max_depth=5, random_state=1)\n",
    "new_clf.fit(X_train, y_train)\n",
    "testing_region = [\"Fes\", \n",
    "               \"Yacoub\",\n",
    "               \"Sefrou\",\n",
    "               \"Taza\",\n",
    "               \"Taounate\",\n",
    "               \"Guercif\"\n",
    "               ]\n",
    "for region in testing_region:\n",
    "    testing_samples = pd.DataFrame(data=[])\n",
    "    for year in range(2012, 2023):\n",
    "        combined_VI = pd.DataFrame(data=[])\n",
    "        for vi in [\"NDVI\", \"EVI\", \"CIG\", \"LSWI\", \"OSAVI\"]:\n",
    "            new_name = {f\"{vi}_{i}\":f\"{vi}_{i+(year-2012)*12}\" for i in range(1, 13)}\n",
    "            try:\n",
    "                irri = pd.read_csv(os.path.join(root_dir, f\"{vi}\", f\"{region}_{vi}_irri_{year}.csv\"))[[f\"{vi}_{i}\" for i in range(1, 13)]]\n",
    "            except:\n",
    "                irri = pd.DataFrame(data=[], columns=[f\"{vi}_{i}\" for i in range(1, 13)])\n",
    "            irri.rename(columns=new_name, inplace=True)\n",
    "            irri = irri.fillna(0)\n",
    "            try:\n",
    "                rf = pd.read_csv(os.path.join(root_dir, f\"{vi}\", f\"{region}_{vi}_rf_{year}.csv\"))[[f\"{vi}_{i}\" for i in range(1, 13)]]\n",
    "            except:        \n",
    "                rf = pd.DataFrame(data=[], columns=[f\"{vi}_{i}\" for i in range(1, 13)])\n",
    "            rf.rename(columns=new_name, inplace=True)\n",
    "            rf = rf.fillna(0)\n",
    "            if year == 2012 and vi == \"NDVI\":\n",
    "                irri[\"class\"] = 0\n",
    "                rf[\"class\"] = 1\n",
    "            combined = pd.concat([irri, rf], axis=0)\n",
    "            combined_VI = pd.concat([combined_VI, combined], axis=1)\n",
    "        testing_samples = pd.concat([testing_samples, combined_VI], axis=1)\n",
    "    testing_samples = testing_samples.reset_index(drop=True)\n",
    "    index_test = testing_samples.index\n",
    "    X_test = testing_samples.drop(columns=[\"class\"])[fn[sorted_fi]].to_numpy()\n",
    "    y_test = testing_samples[\"class\"].to_numpy()\n",
    "    y_pred = new_clf.predict(X_test)\n",
    "    cm = confusion_matrix(y_test, y_pred)\n",
    "    print (region, cm)"
   ]
  },
  {
   "cell_type": "code",
   "execution_count": null,
   "id": "3277b4ef",
   "metadata": {},
   "outputs": [],
   "source": []
  }
 ],
 "metadata": {
  "kernelspec": {
   "display_name": "venv",
   "language": "python",
   "name": "python3"
  },
  "language_info": {
   "codemirror_mode": {
    "name": "ipython",
    "version": 3
   },
   "file_extension": ".py",
   "mimetype": "text/x-python",
   "name": "python",
   "nbconvert_exporter": "python",
   "pygments_lexer": "ipython3",
   "version": "3.9.13"
  },
  "vscode": {
   "interpreter": {
    "hash": "61bc91eebf774b2482f26f831771f74b67f5977cad428ef3520cc86c92a37476"
   }
  }
 },
 "nbformat": 4,
 "nbformat_minor": 5
}
