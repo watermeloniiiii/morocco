{
 "cells": [
  {
   "cell_type": "code",
   "execution_count": 4,
   "metadata": {},
   "outputs": [],
   "source": [
    "import numpy as np\n",
    "import matplotlib.pyplot as plt\n",
    "import pandas as pd\n",
    "import os\n",
    "from config import viz_param"
   ]
  },
  {
   "attachments": {},
   "cell_type": "markdown",
   "metadata": {},
   "source": [
    "### Make figures for VI"
   ]
  },
  {
   "cell_type": "code",
   "execution_count": 3,
   "metadata": {},
   "outputs": [
    {
     "name": "stderr",
     "output_type": "stream",
     "text": [
      "/tmp/ipykernel_60638/235750383.py:50: RuntimeWarning: Mean of empty slice.\n",
      "  plt.plot(range(0, len(rf_vi.mean(axis=0))), rf_vi.mean(axis=0), label=\"Rainfed Olives\")\n",
      "/media/workspace/linchenxi/home/satellite-platform/venv/lib/python3.9/site-packages/numpy/core/_methods.py:181: RuntimeWarning: invalid value encountered in true_divide\n",
      "  ret = um.true_divide(\n",
      "findfont: Font family ['Arial'] not found. Falling back to DejaVu Sans.\n"
     ]
    },
    {
     "data": {
      "image/png": "[encoded data removed]",
      "text/plain": [
       "<Figure size 864x432 with 1 Axes>"
      ]
     },
     "metadata": {
      "needs_background": "light"
     },
     "output_type": "display_data"
    }
   ],
   "source": [
    "root_dir =  f\"/NAS6/Members/linchenxi/projects/morocco/irrigation_regional_analysis\"\n",
    "VI = \"OSAVI\" \n",
    "for region in [\"Guercif\", \"Fes\", \"Taza\", \"Taounate\", \"Sefrou\", \"Yacoub\"]:\n",
    "    samples = pd.DataFrame(data=[])\n",
    "    for year in range(2012, 2023):\n",
    "        new_name = {f\"{VI}_{i}\":f\"{VI}_{i+(year-2012)*12}\" for i in range(1, 13)}\n",
    "        try:\n",
    "            irri = pd.read_csv(os.path.join(root_dir, f\"{VI}\", f\"{region}_{VI}_irri_{year}.csv\"))[[f\"{VI}_{i}\" for i in range(1, 13)]]\n",
    "        except:\n",
    "            irri = pd.DataFrame(data=[], columns=[f\"{VI}_{i}\" for i in range(1, 13)])\n",
    "        irri.rename(columns=new_name, inplace=True)\n",
    "        irri = irri.fillna(0)\n",
    "        try:\n",
    "            rf = pd.read_csv(os.path.join(root_dir, f\"{VI}\", f\"{region}_{VI}_rf_{year}.csv\"))[[f\"{VI}_{i}\" for i in range(1, 13)]]\n",
    "        except:        \n",
    "            rf = pd.DataFrame(data=[], columns=[f\"{VI}_{i}\" for i in range(1, 12)])\n",
    "        rf.rename(columns=new_name, inplace=True)\n",
    "        rf = rf.fillna(0)\n",
    "        if year == 2012:\n",
    "            irri[\"class\"] = 0\n",
    "            rf[\"class\"] = 1\n",
    "        combined = pd.concat([irri, rf], axis=0)\n",
    "        samples = pd.concat([samples, combined], axis=1)\n",
    "    irri_vi = samples[samples[\"class\"]==0].drop(columns=[\"class\"]).to_numpy()\n",
    "    rf_vi = samples[samples[\"class\"]==1].drop(columns=[\"class\"]).to_numpy()\n",
    "    fig = plt.figure(1, figsize=(12, 6))\n",
    "    plt.plot(range(0, len(irri_vi.mean(axis=0))), irri_vi.mean(axis=0), label= \"Irrigated Olives\")\n",
    "    plt.plot(range(0, len(rf_vi.mean(axis=0))), rf_vi.mean(axis=0), label=\"Rainfed Olives\")\n",
    "    ax = plt.gca()\n",
    "    for l in ax.get_xticklabels() + ax.get_yticklabels():\n",
    "        l.set_size(14)\n",
    "        l.set_family('Arial')\n",
    "        l.set_weight('bold')\n",
    "    # ax.set_facecolor(np.array([230, 230, 230])/255)\n",
    "    plt.legend(loc=4, prop=dict(size=14, family='Arial', weight='bold'))\n",
    "    ax.set_ylabel(f\"{VI}\", fontdict=dict(size=14, family='Arial', weight='bold'))\n",
    "    ax.set_xlabel('Dates', fontdict=dict(size=14, family='Arial', weight='bold'))\n",
    "    # ax.set_xlabel('Precipitation(mm)', fontdict=dict(size=14, family='Arial', weight='bold'))\n",
    "    ax.set_xticks([0, 24, 48, 72, 96, 120])\n",
    "    ax.set_ylim(viz_param[VI][\"ylim\"][0], viz_param[VI][\"ylim\"][1])\n",
    "    ax.set_yticks(viz_param[VI][\"yticks\"])\n",
    "    ax.set_xticklabels([\"2012-01\", \"2014-01\", \"2016-01\", \"2018-01\", \"2020-01\", \"2022-01\"], rotation=45)\n",
    "    ax.grid(ls='--', color='k', lw=0.5)\n",
    "    plt.subplots_adjust(left=0.1, bottom=0.2, right=0.95)\n",
    "    plt.savefig(fr\"/NAS6/Members/linchenxi/projects/morocco/irrigation_regional_analysis/figures/{region}_{VI}.jpg\")\n",
    "    plt.cla()\n",
    "    # plt.show()"
   ]
  },
  {
   "attachments": {},
   "cell_type": "markdown",
   "id": "c25482e0",
   "metadata": {},
   "source": [
    "### Make figures for precipitation"
   ]
  },
  {
   "cell_type": "code",
   "execution_count": 7,
   "metadata": {},
   "outputs": [
    {
     "data": {
      "image/png": "[encoded data removed]",
      "text/plain": [
       "<Figure size 864x432 with 1 Axes>"
      ]
     },
     "metadata": {
      "needs_background": "light"
     },
     "output_type": "display_data"
    }
   ],
   "source": [
    "root_dir = f\"/NAS6/Members/linchenxi/projects/morocco/irrigation_regional_analysis/prec\"\n",
    "for region in [\"Guercif\", \"Fes\", \"Taza\", \"Taounate\", \"Sefrou\", \"Yacoub\"]:\n",
    "    samples = pd.DataFrame(data=[])\n",
    "    for year in range(2012, 2023):\n",
    "        new_name = {f\"prec_{i}\":f\"prec_{i+(year-2012)*12}\" for i in range(1, 13)}\n",
    "        try:\n",
    "            prec = pd.read_csv(os.path.join(root_dir, f\"{region}_prec_{year}.csv\"))[[f\"prec_{i}\" for i in range(1, 13)]]\n",
    "        except:\n",
    "            prec = pd.DataFrame(data=[], columns=[f\"prec_{i}\" for i in range(1, 13)])\n",
    "        prec.rename(columns=new_name, inplace=True)\n",
    "        prec = prec.fillna(0)\n",
    "        samples = pd.concat([samples, prec], axis=1)\n",
    "    fig = plt.figure(1, figsize=(12, 6))\n",
    "    plt.plot(range(0, len(samples.mean(axis=0))), samples.mean(axis=0) * 1000, label= \"Precipitation\", c=\"C1\")\n",
    "    ax = plt.gca()\n",
    "    for l in ax.get_xticklabels() + ax.get_yticklabels():\n",
    "        l.set_size(14)\n",
    "        l.set_family('Arial')\n",
    "        l.set_weight('bold')\n",
    "    # ax.set_facecolor(np.array([230, 230, 230])/255)\n",
    "    plt.legend(loc=1, prop=dict(size=14, family='Arial', weight='bold'))\n",
    "    ax.set_ylabel('Precipitation', fontdict=dict(size=14, family='Arial', weight='bold'))\n",
    "    ax.set_xlabel('Dates', fontdict=dict(size=14, family='Arial', weight='bold'))\n",
    "    # ax.set_xlabel('Precipitation(mm)', fontdict=dict(size=14, family='Arial', weight='bold'))\n",
    "    ax.set_xticks([0, 24, 48, 72, 96, 120])\n",
    "    ax.set_ylim(0, 600)\n",
    "    # ax.set_yticks([-0.4, -0.2, 0 ,0.2, 0.4])\n",
    "    ax.set_xticklabels([\"2012-01\", \"2014-01\", \"2016-01\", \"2018-01\", \"2020-01\", \"2022-01\"], rotation=45)\n",
    "    ax.grid(ls='--', color='k', lw=0.5)\n",
    "    plt.subplots_adjust(left=0.1, bottom=0.2, right=0.95)\n",
    "    plt.savefig(f\"/NAS6/Members/linchenxi/projects/morocco/irrigation_regional_analysis/figures/{region}_prec.jpg\")\n",
    "    plt.cla()"
   ]
  },
  {
   "attachments": {},
   "cell_type": "markdown",
   "id": "7043fec5",
   "metadata": {},
   "source": [
    "### Random Forest"
   ]
  },
  {
   "cell_type": "code",
   "execution_count": 167,
   "metadata": {},
   "outputs": [
    {
     "name": "stdout",
     "output_type": "stream",
     "text": [
      "0.25\n",
      "Fes's cm is [[0 9]\n",
      " [0 3]]\n",
      "0.8620689655172413\n",
      "Yacoub's cm is [[ 0  4]\n",
      " [ 0 25]]\n",
      "0.5523809523809524\n",
      "Sefrou's cm is [[ 8  6]\n",
      " [41 50]]\n",
      "0.6698113207547169\n",
      "Taza's cm is [[ 4  8]\n",
      " [27 67]]\n"
     ]
    }
   ],
   "source": [
    "root_dir =  f\"/NAS6/Members/linchenxi/projects/morocco/irrigation_regional_analysis\"\n",
    "samples = pd.DataFrame(data=[])\n",
    "for year in range(2012, 2023):\n",
    "    combined_VI = pd.DataFrame(data=[])\n",
    "    for vi in [\"NDVI\", \"EVI\"]:\n",
    "        new_name = {f\"{vi}_{i}\":f\"{vi}_{i+(year-2012)*12}\" for i in range(1, 13)}\n",
    "        try:\n",
    "            if year == 2012 and vi == \"NDVI\":\n",
    "                irri = pd.read_csv(os.path.join(root_dir, f\"all_{vi}\", f\"all_{vi}_irri_{year}.csv\"))[[f\"{vi}_{i}\" for i in range(1, 13)]+[\"FIELD_ID\"]]\n",
    "            else:\n",
    "                irri = pd.read_csv(os.path.join(root_dir, f\"all_{vi}\", f\"all_{vi}_irri_{year}.csv\"))[[f\"{vi}_{i}\" for i in range(1, 13)]]\n",
    "        except:\n",
    "            irri = pd.DataFrame(data=[], columns=[f\"{vi}_{i}\" for i in range(1, 13)])\n",
    "        irri.rename(columns=new_name, inplace=True)\n",
    "        irri = irri.fillna(0)\n",
    "        try:\n",
    "            if year == 2012 and vi == \"NDVI\":\n",
    "                rf = pd.read_csv(os.path.join(root_dir, f\"all_{vi}\", f\"all_{vi}_rf_{year}.csv\"))[[f\"{vi}_{i}\" for i in range(1, 13)]+[\"FIELD_ID\"]]\n",
    "            else:\n",
    "                rf = pd.read_csv(os.path.join(root_dir, f\"all_{vi}\", f\"all_{vi}_rf_{year}.csv\"))[[f\"{vi}_{i}\" for i in range(1, 13)]] \n",
    "        except:        \n",
    "            rf = pd.DataFrame(data=[], columns=[f\"{vi}_{i}\" for i in range(1, 13)])\n",
    "        rf.rename(columns=new_name, inplace=True)\n",
    "        rf = rf.fillna(0)\n",
    "        if year == 2012 and vi == \"NDVI\":\n",
    "            irri[\"class\"] = 0\n",
    "            rf[\"class\"] = 1\n",
    "        combined = pd.concat([irri, rf], axis=0)\n",
    "        combined_VI = pd.concat([combined_VI, combined], axis=1)\n",
    "    samples = pd.concat([samples, combined_VI], axis=1)\n",
    "samples_guercif = samples[\"FIELD_ID\"].str.contains(\"GUERSIF\")\n",
    "samples_fes = samples[\"FIELD_ID\"].str.contains(\"Fes-Nord\")\n",
    "samples_taounate = samples[\"FIELD_ID\"].str.contains(\"TAOUNATE\")\n",
    "mask = np.any(np.c_[samples_guercif, samples_fes, samples_taounate], axis=1)\n",
    "X_train = samples[mask].drop(columns=[\"class\", \"FIELD_ID\"]).to_numpy()\n",
    "y_train = samples[mask][\"class\"].to_numpy()\n",
    "\n",
    "from sklearn.ensemble import RandomForestClassifier\n",
    "from sklearn.model_selection import train_test_split\n",
    "from sklearn.model_selection import cross_validate\n",
    "from sklearn.metrics import confusion_matrix\n",
    "# X = samples.drop(columns=[\"class\"]).to_numpy()\n",
    "# y = samples[\"class\"].to_numpy()\n",
    "# cv = 5\n",
    "# X_train, X_test, y_train, y_test = train_test_split(X, y, test_size=0.33, random_state=45)\n",
    "clf = RandomForestClassifier(max_depth=5, random_state=1)\n",
    "clf.fit(X_train, y_train)\n",
    "# cv_results = cross_validate(clf, X_train, y_train, cv=5, return_estimator=True)\n",
    "# estimators = cv_results[\"estimator\"]\n",
    "# scores = cv_results[\"test_score\"]\n",
    "# for e in estimators:\n",
    "testing_region = [\"Fes\", \n",
    "               \"Yacoub\",\n",
    "               \"Sefrou\",\n",
    "               \"Taza\"\n",
    "               ]\n",
    "nickname = [\"vi\", \"evi\"]\n",
    "for region in testing_region:\n",
    "    testing_samples = pd.DataFrame(data=[])\n",
    "    for year in range(2012, 2023):\n",
    "        combined_VI = pd.DataFrame(data=[])\n",
    "        for j, vi in enumerate([\"NDVI\", \"EVI\"]):\n",
    "            new_name = {f\"{vi}_{i}\":f\"{vi}_{i+(year-2012)*12}\" for i in range(1, 13)}\n",
    "            try:\n",
    "                irri = pd.read_csv(os.path.join(root_dir, f\"{vi}\", f\"{region}_{nickname[j]}_irri_{year}.csv\"))[[f\"{vi}_{i}\" for i in range(1, 13)]]\n",
    "            except:\n",
    "                irri = pd.DataFrame(data=[], columns=[f\"{vi}_{i}\" for i in range(1, 13)])\n",
    "            irri.rename(columns=new_name, inplace=True)\n",
    "            irri = irri.fillna(0)\n",
    "            try:\n",
    "                rf = pd.read_csv(os.path.join(root_dir, f\"{vi}\", f\"{region}_{nickname[j]}_rf_{year}.csv\"))[[f\"{vi}_{i}\" for i in range(1, 13)]]\n",
    "            except:        \n",
    "                rf = pd.DataFrame(data=[], columns=[f\"{vi}_{i}\" for i in range(1, 13)])\n",
    "            rf.rename(columns=new_name, inplace=True)\n",
    "            rf = rf.fillna(0)\n",
    "            if year == 2012 and vi == \"NDVI\":\n",
    "                irri[\"class\"] = 0\n",
    "                rf[\"class\"] = 1\n",
    "            combined = pd.concat([irri, rf], axis=0)\n",
    "            combined_VI = pd.concat([combined_VI, combined], axis=1)\n",
    "        testing_samples = pd.concat([testing_samples, combined_VI], axis=1)\n",
    "    X_test = testing_samples.drop(columns=[\"class\"]).to_numpy()\n",
    "    y_test = testing_samples[\"class\"].to_numpy()\n",
    "    y_pred = clf.predict(X_test)\n",
    "    cm = confusion_matrix(y_test, y_pred)\n",
    "    print ((y_pred==y_test).mean())\n",
    "    print (f\"{region}'s cm is {cm}\")"
   ]
  },
  {
   "cell_type": "code",
   "execution_count": null,
   "metadata": {},
   "outputs": [],
   "source": []
  }
 ],
 "metadata": {
  "kernelspec": {
   "display_name": "venv",
   "language": "python",
   "name": "python3"
  },
  "language_info": {
   "codemirror_mode": {
    "name": "ipython",
    "version": 3
   },
   "file_extension": ".py",
   "mimetype": "text/x-python",
   "name": "python",
   "nbconvert_exporter": "python",
   "pygments_lexer": "ipython3",
   "version": "3.9.15 (main, Oct 12 2022, 19:15:11) \n[GCC 7.5.0]"
  },
  "vscode": {
   "interpreter": {
    "hash": "61bc91eebf774b2482f26f831771f74b67f5977cad428ef3520cc86c92a37476"
   }
  }
 },
 "nbformat": 4,
 "nbformat_minor": 5
}
