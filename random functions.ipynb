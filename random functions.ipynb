{
 "cells": [
  {
   "cell_type": "code",
   "execution_count": 4,
   "metadata": {},
   "outputs": [],
   "source": [
    "import os\n",
    "import shutil\n",
    "root_dir = r\"Z:\\Morocco\\second_data\\unzip\"\n",
    "for file in os.listdir(root_dir):\n",
    "    img_dir = os.path.join(root_dir,file)\n",
    "    for sub_file in os.listdir(img_dir):\n",
    "        if sub_file == \"license\":\n",
    "            continue\n",
    "        for img in os.listdir(os.path.join(root_dir, file, sub_file)):\n",
    "            if img.endswith(\"NTF\"):\n",
    "                shutil.copy(os.path.join(root_dir, file, sub_file, img), r\"Z:\\Morocco\\second_data\\test\\\\\" + img)\n"
   ]
  },
  {
   "cell_type": "code",
   "execution_count": null,
   "metadata": {},
   "outputs": [],
   "source": []
  }
 ],
 "metadata": {
  "kernelspec": {
   "display_name": "transformer",
   "language": "python",
   "name": "python3"
  },
  "language_info": {
   "codemirror_mode": {
    "name": "ipython",
    "version": 3
   },
   "file_extension": ".py",
   "mimetype": "text/x-python",
   "name": "python",
   "nbconvert_exporter": "python",
   "pygments_lexer": "ipython3",
   "version": "3.8.15"
  },
  "orig_nbformat": 4,
  "vscode": {
   "interpreter": {
    "hash": "3655fa67ca0e793882c1a2b6b5be8685cfeaabfa4d5f7c5db3e31be3b9fa3bad"
   }
  }
 },
 "nbformat": 4,
 "nbformat_minor": 2
}
